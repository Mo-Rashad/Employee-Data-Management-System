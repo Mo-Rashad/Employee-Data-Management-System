{
 "cells": [
  {
   "cell_type": "markdown",
   "id": "fdd4b810-4940-40be-b5da-156f8366490c",
   "metadata": {},
   "source": [
    "# Employee Data Management System"
   ]
  },
  {
   "cell_type": "code",
   "execution_count": 4,
   "id": "d3dffb85-38c2-49ad-9ff0-8ffdeb5a851d",
   "metadata": {
    "jp-MarkdownHeadingCollapsed": true
   },
   "outputs": [
    {
     "name": "stdout",
     "output_type": "stream",
     "text": [
      "\n",
      "Welcome to our System for Employee Data Management!\n",
      "We have some Aewsome operations you may want to try a one.\n",
      "\n",
      "if you need one of the below operations just enter its number:\n",
      "\n",
      "     1: Add an Employee.\n",
      "     2: Update an Employee.\n",
      "     3: Delete an Employee.\n",
      "     4: Search an Employee.\n",
      "     5: List all Employees.\n",
      "     6: Exit the Program.\n",
      "\n",
      "\n"
     ]
    },
    {
     "name": "stdin",
     "output_type": "stream",
     "text": [
      "Your chioce is:  5\n"
     ]
    },
    {
     "name": "stdout",
     "output_type": "stream",
     "text": [
      "\n",
      "There is no Employees on the system yet!\n",
      "\n",
      "\n",
      "if you need one of the below operations just enter its number:\n",
      "\n",
      "     1: Add an Employee.\n",
      "     2: Update an Employee.\n",
      "     3: Delete an Employee.\n",
      "     4: Search an Employee.\n",
      "     5: List all Employees.\n",
      "     6: Exit the Program.\n",
      "\n",
      "\n"
     ]
    },
    {
     "name": "stdin",
     "output_type": "stream",
     "text": [
      "Your chioce is:  2\n",
      "Enter Employee ID you want to update: 1\n"
     ]
    },
    {
     "name": "stdout",
     "output_type": "stream",
     "text": [
      "There is no Employee with this ID\n",
      "\n",
      "if you need one of the below operations just enter its number:\n",
      "\n",
      "     1: Add an Employee.\n",
      "     2: Update an Employee.\n",
      "     3: Delete an Employee.\n",
      "     4: Search an Employee.\n",
      "     5: List all Employees.\n",
      "     6: Exit the Program.\n",
      "\n",
      "\n"
     ]
    },
    {
     "name": "stdin",
     "output_type": "stream",
     "text": [
      "Your chioce is:  3\n",
      "Enter Employee ID you want to delete: 1\n"
     ]
    },
    {
     "name": "stdout",
     "output_type": "stream",
     "text": [
      "\n",
      "The Employee already not registered on the system.\n",
      "\n",
      "if you need one of the below operations just enter its number:\n",
      "\n",
      "     1: Add an Employee.\n",
      "     2: Update an Employee.\n",
      "     3: Delete an Employee.\n",
      "     4: Search an Employee.\n",
      "     5: List all Employees.\n",
      "     6: Exit the Program.\n",
      "\n",
      "\n"
     ]
    },
    {
     "name": "stdin",
     "output_type": "stream",
     "text": [
      "Your chioce is:  4\n",
      "Enter the Employee ID you want to search: 2\n"
     ]
    },
    {
     "name": "stdout",
     "output_type": "stream",
     "text": [
      "\n",
      "The Employee not registered on the system\n",
      "\n",
      "\n",
      "if you need one of the below operations just enter its number:\n",
      "\n",
      "     1: Add an Employee.\n",
      "     2: Update an Employee.\n",
      "     3: Delete an Employee.\n",
      "     4: Search an Employee.\n",
      "     5: List all Employees.\n",
      "     6: Exit the Program.\n",
      "\n",
      "\n"
     ]
    },
    {
     "name": "stdin",
     "output_type": "stream",
     "text": [
      "Your chioce is:  1\n"
     ]
    },
    {
     "name": "stdout",
     "output_type": "stream",
     "text": [
      "We need some information about the new Employee...\n"
     ]
    },
    {
     "name": "stdin",
     "output_type": "stream",
     "text": [
      "Enter ID: 1\n",
      "Enter Name: Mohamed\n",
      "Enter Position: ML\n",
      "Enter Salary: 3456\n",
      "Enter Email: mo@gm.com\n"
     ]
    },
    {
     "name": "stdout",
     "output_type": "stream",
     "text": [
      "\n",
      "The Employee added to our System Successfully!\n",
      "\n",
      "\n",
      "if you need one of the below operations just enter its number:\n",
      "\n",
      "     1: Add an Employee.\n",
      "     2: Update an Employee.\n",
      "     3: Delete an Employee.\n",
      "     4: Search an Employee.\n",
      "     5: List all Employees.\n",
      "     6: Exit the Program.\n",
      "\n",
      "\n"
     ]
    },
    {
     "name": "stdin",
     "output_type": "stream",
     "text": [
      "Your chioce is:  6\n"
     ]
    },
    {
     "name": "stdout",
     "output_type": "stream",
     "text": [
      "Thank you, See you Later :) \n"
     ]
    }
   ],
   "source": [
    "# from employeeManager import EmployeeManager\n",
    "%run employeeManager.ipynb\n",
    "\n",
    "manager = EmployeeManager()\n",
    "manager.welcome()\n",
    "check = True\n",
    "\n",
    "while check:\n",
    "    print('\\nif you need one of the below operations just enter its number:\\n\\n \\\n",
    "    1: Add an Employee.\\n \\\n",
    "    2: Update an Employee.\\n \\\n",
    "    3: Delete an Employee.\\n \\\n",
    "    4: Search an Employee.\\n \\\n",
    "    5: List all Employees.\\n \\\n",
    "    6: Exit the Program.\\n\\n')\n",
    "    inp = int(input('Your chioce is: '))\n",
    "    if inp == 1:\n",
    "        manager.create()\n",
    "    elif inp == 2:\n",
    "        manager.update()\n",
    "    elif inp == 3:\n",
    "        manager.delete()\n",
    "    elif inp == 4:\n",
    "        manager.search()\n",
    "    elif inp == 5:\n",
    "        manager.listAllEmplyees()\n",
    "    elif inp == 6:\n",
    "        print('Thank you, See you Later :) ')\n",
    "        check = False\n",
    "    else:\n",
    "        print('Please Enter a valid number [1:6]')"
   ]
  },
  {
   "cell_type": "code",
   "execution_count": null,
   "id": "f4c3fcf3-aa0f-4703-a4ba-8bf6bdecf6ae",
   "metadata": {},
   "outputs": [],
   "source": []
  }
 ],
 "metadata": {
  "kernelspec": {
   "display_name": "Python 3 (ipykernel)",
   "language": "python",
   "name": "python3"
  },
  "language_info": {
   "codemirror_mode": {
    "name": "ipython",
    "version": 3
   },
   "file_extension": ".py",
   "mimetype": "text/x-python",
   "name": "python",
   "nbconvert_exporter": "python",
   "pygments_lexer": "ipython3",
   "version": "3.12.7"
  }
 },
 "nbformat": 4,
 "nbformat_minor": 5
}
