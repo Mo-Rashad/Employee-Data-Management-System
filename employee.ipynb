{
 "cells": [
  {
   "cell_type": "markdown",
   "id": "7cf69cbb-a6c2-4531-87d6-36a60703e7f2",
   "metadata": {},
   "source": [
    "## class Employee"
   ]
  },
  {
   "cell_type": "code",
   "execution_count": 7,
   "id": "b0a34db3-dd63-44ad-ada0-33c6ba84bc88",
   "metadata": {},
   "outputs": [],
   "source": [
    "class Employee:\n",
    "    \n",
    "    __employees_list = list()  # list of each employee\n",
    "            \n",
    "    def _add(self, Id, name, position, salary, email):\n",
    "        self.employee_dict = dict()   # dictionary of each employee  \n",
    "        self.employee_dict['id'] = Id\n",
    "        self.employee_dict['name'] = name\n",
    "        self.employee_dict['position'] = position\n",
    "        self.employee_dict['salary'] = salary\n",
    "        self.employee_dict['email'] = email\n",
    "        self.__employees_list.append(self.employee_dict)\n",
    "        \n",
    "    def _get_employees_list(self):\n",
    "        return self.__employees_list\n",
    "\n",
    "    def _getByID(self,emp_id):\n",
    "        exist = False\n",
    "        ele = {}\n",
    "        for dic in self.__employees_list:\n",
    "            if emp_id == dic['id']:\n",
    "                exist = True\n",
    "                ele = dic\n",
    "                break\n",
    "        if exist:\n",
    "            return ele  # dictionary\n",
    "        else:\n",
    "            return -1   # not found\n",
    "    \n",
    "    def _displayAll(self):\n",
    "        if len(self.__employees_list) == 0:\n",
    "            print('\\nThere is no Employees on the system yet!\\n')\n",
    "        else:\n",
    "            print('\\nWe have these Employees on the system:\\n')\n",
    "            for dic in self.__employees_list:\n",
    "                print(f\"  {dic['id']}) Employee's Name is {dic['name']} Works as {dic['position']} with Salary {dic['salary']} and his email address is {dic['email']}\\n\")\n",
    "    def _update(self, emp_id):\n",
    "        update = int(input('What is your update: \\n1:name, \\n2:position, \\n3:salary, \\n4:email \\nEnter number of your update:'))\n",
    "        for dic in self.__employees_list:\n",
    "            if emp_id == dic['id']:\n",
    "                if update == 1:\n",
    "                    dic['name'] = input('Enter new Name:')\n",
    "                    print('\\nName Updated Successfully!\\n')\n",
    "                elif update == 2:\n",
    "                    dic['position'] = input('Enter new position:')\n",
    "                    print('\\nPosition Updated Successfully!\\n')\n",
    "                elif update == 3:\n",
    "                    dic['salary'] = int(input('Enter new salary:'))\n",
    "                    print('\\nSalary Updated Successfully!\\n')\n",
    "                elif update == 4:\n",
    "                    dic['email'] = input('Enter new email:')\n",
    "                    print('\\nEmail Updated Successfully!\\n')\n",
    "                else:\n",
    "                    print('Not a valid number')\n",
    "            else:\n",
    "                pass\n"
   ]
  },
  {
   "cell_type": "code",
   "execution_count": null,
   "id": "dcc5476c-3ddb-41de-b1bf-c20540e6c24e",
   "metadata": {},
   "outputs": [],
   "source": []
  }
 ],
 "metadata": {
  "kernelspec": {
   "display_name": "Python 3 (ipykernel)",
   "language": "python",
   "name": "python3"
  },
  "language_info": {
   "codemirror_mode": {
    "name": "ipython",
    "version": 3
   },
   "file_extension": ".py",
   "mimetype": "text/x-python",
   "name": "python",
   "nbconvert_exporter": "python",
   "pygments_lexer": "ipython3",
   "version": "3.12.7"
  }
 },
 "nbformat": 4,
 "nbformat_minor": 5
}
